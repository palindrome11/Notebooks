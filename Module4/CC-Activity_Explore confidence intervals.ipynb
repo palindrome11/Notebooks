{
 "cells": [
  {
   "cell_type": "markdown",
   "id": "30bbfc1f",
   "metadata": {
    "id": "d25eed62-5910-4d10-a976-c18c4f7d99f7"
   },
   "source": [
    "# Activity: Explore confidence intervals"
   ]
  },
  {
   "cell_type": "markdown",
   "id": "4319d3db",
   "metadata": {
    "id": "b50579ec-09df-4bb1-ad5a-d28f4790ca16"
   },
   "source": [
    "## Introduction"
   ]
  },
  {
   "cell_type": "markdown",
   "id": "51a6b49e",
   "metadata": {
    "id": "6a8992ac-22d5-41db-aa09-263b464950e0"
   },
   "source": [
    "The Air Quality Index (AQI) is the Environmental Protection Agency's index for reporting air quality. A value close to 0 signals little to no public health concern, while higher values are associated with increased risk to public health. The United States is considering a new federal policy that would create a subsidy for renewable energy in states observing an average AQI of 10 or above. <br>\n",
    "\n",
    "You've just started your new role as a data analyst in the Strategy division of Ripple Renewable Energy (RRE). **RRE operates in the following U.S. states: `California`, `Florida`, `Michigan`, `Ohio`, `Pennsylvania`, `Texas`.** You've been tasked with constructing an analysis which identifies which of these states are most likely to be affected, should the new federal policy be enacted."
   ]
  },
  {
   "cell_type": "markdown",
   "id": "8e08700f",
   "metadata": {
    "id": "6e4e3b8a-b5f9-4fe1-a824-0bd3aece693c"
   },
   "source": [
    "Your manager has requested that you do the following for your analysis:\n",
    "1. Provide a summary of the mean AQI for the states in which RRE operates.\n",
    "2. Construct a boxplot visualization for AQI of these states using `seaborn`.\n",
    "3. Evaluate which state(s) may be most affected by this policy, based on the data and your boxplot visualization.\n",
    "4. Construct a confidence interval for the RRE state with the highest mean AQI."
   ]
  },
  {
   "cell_type": "markdown",
   "id": "f75ea393",
   "metadata": {
    "id": "3b4dc9a5-d724-4696-a704-57fefa9d5938"
   },
   "source": [
    "## Step 1: Imports\n",
    "\n",
    "### Import packages\n",
    "\n",
    "Import `pandas` and `numpy`."
   ]
  },
  {
   "cell_type": "code",
   "execution_count": 3,
   "id": "f1aa1ae1",
   "metadata": {
    "id": "0b3d0e1c-23b9-4491-82a5-ac1e4bd36f30"
   },
   "outputs": [],
   "source": [
    "# Import relevant packages\n",
    "\n",
    "import numpy as np\n",
    "import pandas as pd\n",
    "import matplotlib.pyplot as plt\n",
    "from scipy import stats\n",
    "import statsmodels.api as sm"
   ]
  },
  {
   "cell_type": "markdown",
   "id": "b1f9733b",
   "metadata": {
    "id": "a4f7c0d0-027e-475a-bce5-ad96d059cd04"
   },
   "source": [
    "### Load the dataset\n",
    "\n",
    "The dataset provided gives national Air Quality Index (AQI) measurements by state over time.  `Pandas` is used to import the file `c4_epa_air_quality.csv` as a DataFrame named `aqi`. As shown in this cell, the dataset has been automatically loaded in for you. You do not need to download the .csv file, or provide more code, in order to access the dataset and proceed with this lab. Please continue with this activity by completing the following instructions.\n",
    "\n",
    "*Note: For the purposes of your analysis, you can assume this data is randomly sampled from a larger population.*"
   ]
  },
  {
   "cell_type": "code",
   "execution_count": 4,
   "id": "915cbb02",
   "metadata": {
    "id": "1ce82ed7-cf32-4028-ac77-a377e7638458",
    "tags": []
   },
   "outputs": [],
   "source": [
    "# RUN THIS CELL TO IMPORT YOUR DATA\n",
    "\n",
    "### YOUR CODE HERE ###\n",
    "aqi = pd.read_csv('./data/c4_epa_air_quality.csv')"
   ]
  },
  {
   "cell_type": "markdown",
   "id": "9e38b891",
   "metadata": {
    "id": "JLW4ftpm15LA"
   },
   "source": [
    "## Step 2: Data exploration"
   ]
  },
  {
   "cell_type": "markdown",
   "id": "64f91672",
   "metadata": {
    "id": "c1ee0813-5e74-4564-8ea1-8d724700754a"
   },
   "source": [
    "### Explore your dataset\n",
    "\n",
    "Before proceeding to your deliverables, spend some time exploring the `aqi` DataFrame. "
   ]
  },
  {
   "cell_type": "code",
   "execution_count": 68,
   "id": "6f76d07a",
   "metadata": {
    "id": "0444122d-6fba-4051-8b09-b15392aacebf"
   },
   "outputs": [
    {
     "name": "stdout",
     "output_type": "stream",
     "text": [
      "['Arizona' 'Ohio' 'Wyoming' 'Pennsylvania' 'Iowa' 'Hawaii' 'Colorado'\n",
      " 'Minnesota' 'Indiana' 'Missouri' 'Connecticut' 'California' 'Nevada'\n",
      " 'Virginia' 'Rhode Island' 'Texas' 'Illinois' 'Kansas' 'Maryland'\n",
      " 'New Jersey' 'Massachusetts' 'Maine' 'Idaho' 'Florida' 'Vermont'\n",
      " 'Tennessee' 'Georgia' 'South Dakota' 'North Carolina' 'West Virginia'\n",
      " 'Michigan' 'Nebraska' 'Alabama' 'Washington' 'Kentucky' 'Oklahoma'\n",
      " 'New York' 'North Dakota' 'Montana' 'Utah' 'Delaware' 'New Hampshire'\n",
      " 'Louisiana' 'Mississippi' 'New Mexico' 'Oregon' 'District Of Columbia'\n",
      " 'Arkansas' 'Puerto Rico' 'South Carolina' 'Alaska' 'Wisconsin']\n"
     ]
    },
    {
     "data": {
      "text/plain": [
       "52"
      ]
     },
     "execution_count": 68,
     "metadata": {},
     "output_type": "execute_result"
    }
   ],
   "source": [
    "# Explore your DataFrame `aqi`.\n",
    "\n",
    "#aqi.describe()\n",
    "#aqi.head(10)\n",
    "#aqi['date_local']\n",
    "#aqi.columns\n",
    "#aqi['aqi'].max()\n",
    "# aqi.columns\n",
    "# slected_cols=aqi[['state_name','aqi']]\n",
    "# print(slected_cols.to_string())\n",
    "# display(aqi.to_string())\n",
    "# display(aqi['state_name'].unique)\n",
    "us=aqi['state_name'].unique()\n",
    "print(us)\n",
    "len(us)"
   ]
  },
  {
   "cell_type": "code",
   "execution_count": 71,
   "id": "945a53e4",
   "metadata": {},
   "outputs": [
    {
     "data": {
      "text/plain": [
       "<bound method DataFrame.to_string of    Unnamed: 0  date_local    state_name   county_name      city_name  \\\n",
       "0           0  2018-01-01       Arizona      Maricopa        Buckeye   \n",
       "1           1  2018-01-01          Ohio       Belmont      Shadyside   \n",
       "2           2  2018-01-01       Wyoming         Teton  Not in a city   \n",
       "3           3  2018-01-01  Pennsylvania  Philadelphia   Philadelphia   \n",
       "4           4  2018-01-01          Iowa          Polk     Des Moines   \n",
       "5           5  2018-01-01        Hawaii      Honolulu  Not in a city   \n",
       "6           6  2018-01-01        Hawaii      Honolulu  Not in a city   \n",
       "7           7  2018-01-01  Pennsylvania          Erie           Erie   \n",
       "8           8  2018-01-01        Hawaii      Honolulu       Honolulu   \n",
       "9           9  2018-01-01      Colorado       Larimer   Fort Collins   \n",
       "\n",
       "                                     local_site_name   parameter_name  \\\n",
       "0                                            BUCKEYE  Carbon monoxide   \n",
       "1                                          Shadyside  Carbon monoxide   \n",
       "2  Yellowstone National Park - Old Faithful Snow ...  Carbon monoxide   \n",
       "3                             North East Waste (NEW)  Carbon monoxide   \n",
       "4                                          CARPENTER  Carbon monoxide   \n",
       "5                                            Kapolei  Carbon monoxide   \n",
       "6                                            Kapolei  Carbon monoxide   \n",
       "7                                                NaN  Carbon monoxide   \n",
       "8                                           Honolulu  Carbon monoxide   \n",
       "9                      Fort Collins - CSU - S. Mason  Carbon monoxide   \n",
       "\n",
       "    units_of_measure  arithmetic_mean  aqi  \n",
       "0  Parts per million         0.473684    7  \n",
       "1  Parts per million         0.263158    5  \n",
       "2  Parts per million         0.111111    2  \n",
       "3  Parts per million         0.300000    3  \n",
       "4  Parts per million         0.215789    3  \n",
       "5  Parts per million         0.994737   14  \n",
       "6  Parts per million         0.200000    2  \n",
       "7  Parts per million         0.200000    2  \n",
       "8  Parts per million         0.400000    5  \n",
       "9  Parts per million         0.300000    6  >"
      ]
     },
     "execution_count": 71,
     "metadata": {},
     "output_type": "execute_result"
    }
   ],
   "source": [
    "aqi.head(10).to_string"
   ]
  },
  {
   "cell_type": "markdown",
   "id": "780be7d4",
   "metadata": {},
   "source": [
    "*********************************************************\n",
    "BELOW ARE THE INSTRUCTORS ANSWERS TO THE DESCRIBE SECTION"
   ]
  },
  {
   "cell_type": "code",
   "execution_count": 5,
   "id": "aef82b8b",
   "metadata": {},
   "outputs": [
    {
     "name": "stdout",
     "output_type": "stream",
     "text": [
      "        Unnamed: 0  date_local  state_name  county_name      city_name  \\\n",
      "count   260.000000         260         260          260            260   \n",
      "unique         NaN           1          52          149            190   \n",
      "top            NaN  2018-01-01  California  Los Angeles  Not in a city   \n",
      "freq           NaN         260          66           14             21   \n",
      "mean    129.500000         NaN         NaN          NaN            NaN   \n",
      "std      75.199734         NaN         NaN          NaN            NaN   \n",
      "min       0.000000         NaN         NaN          NaN            NaN   \n",
      "25%      64.750000         NaN         NaN          NaN            NaN   \n",
      "50%     129.500000         NaN         NaN          NaN            NaN   \n",
      "75%     194.250000         NaN         NaN          NaN            NaN   \n",
      "max     259.000000         NaN         NaN          NaN            NaN   \n",
      "\n",
      "       local_site_name   parameter_name   units_of_measure  arithmetic_mean  \\\n",
      "count              257              260                260       260.000000   \n",
      "unique             253                1                  1              NaN   \n",
      "top            Kapolei  Carbon monoxide  Parts per million              NaN   \n",
      "freq                 2              260                260              NaN   \n",
      "mean               NaN              NaN                NaN         0.403169   \n",
      "std                NaN              NaN                NaN         0.317902   \n",
      "min                NaN              NaN                NaN         0.000000   \n",
      "25%                NaN              NaN                NaN         0.200000   \n",
      "50%                NaN              NaN                NaN         0.276315   \n",
      "75%                NaN              NaN                NaN         0.516009   \n",
      "max                NaN              NaN                NaN         1.921053   \n",
      "\n",
      "               aqi  \n",
      "count   260.000000  \n",
      "unique         NaN  \n",
      "top            NaN  \n",
      "freq           NaN  \n",
      "mean      6.757692  \n",
      "std       7.061707  \n",
      "min       0.000000  \n",
      "25%       2.000000  \n",
      "50%       5.000000  \n",
      "75%       9.000000  \n",
      "max      50.000000  \n"
     ]
    }
   ],
   "source": [
    "print(aqi.describe(include='all'))"
   ]
  },
  {
   "cell_type": "code",
   "execution_count": 6,
   "id": "7e58081a",
   "metadata": {},
   "outputs": [
    {
     "name": "stdout",
     "output_type": "stream",
     "text": [
      "For a more thorough examination of observations by state use values_counts()\n",
      "state_name\n",
      "California              66\n",
      "Arizona                 14\n",
      "Ohio                    12\n",
      "Florida                 12\n",
      "Texas                   10\n",
      "New York                10\n",
      "Pennsylvania            10\n",
      "Michigan                 9\n",
      "Colorado                 9\n",
      "Minnesota                7\n",
      "New Jersey               6\n",
      "Indiana                  5\n",
      "North Carolina           4\n",
      "Massachusetts            4\n",
      "Maryland                 4\n",
      "Oklahoma                 4\n",
      "Virginia                 4\n",
      "Nevada                   4\n",
      "Connecticut              4\n",
      "Kentucky                 3\n",
      "Missouri                 3\n",
      "Wyoming                  3\n",
      "Iowa                     3\n",
      "Hawaii                   3\n",
      "Utah                     3\n",
      "Vermont                  3\n",
      "Illinois                 3\n",
      "New Hampshire            2\n",
      "District Of Columbia     2\n",
      "New Mexico               2\n",
      "Montana                  2\n",
      "Oregon                   2\n",
      "Alaska                   2\n",
      "Georgia                  2\n",
      "Washington               2\n",
      "Idaho                    2\n",
      "Nebraska                 2\n",
      "Rhode Island             2\n",
      "Tennessee                2\n",
      "Maine                    2\n",
      "South Carolina           1\n",
      "Puerto Rico              1\n",
      "Arkansas                 1\n",
      "Kansas                   1\n",
      "Mississippi              1\n",
      "Alabama                  1\n",
      "Louisiana                1\n",
      "Delaware                 1\n",
      "South Dakota             1\n",
      "West Virginia            1\n",
      "North Dakota             1\n",
      "Wisconsin                1\n",
      "Name: count, dtype: int64\n"
     ]
    }
   ],
   "source": [
    "print(\"For a more thorough examination of observations by state use values_counts()\")\n",
    "print(aqi['state_name'].value_counts())"
   ]
  },
  {
   "cell_type": "markdown",
   "id": "584a7dcc",
   "metadata": {
    "id": "DOPQ6EL9ZmrB"
   },
   "source": [
    "**Question:** What time range does this data cover?\n",
    "\n",
    "All data was collected on the same day 01-01-2018\n"
   ]
  },
  {
   "cell_type": "markdown",
   "id": "f5675968",
   "metadata": {
    "id": "Sw0U5NWpZ1wp"
   },
   "source": [
    "**Question:** What are the minimum and maximum AQI values observed in the dataset?\n",
    "\n",
    "Min = 0, Max =50"
   ]
  },
  {
   "cell_type": "markdown",
   "id": "ea093ae8",
   "metadata": {
    "id": "LWBj7cKZZ_du"
   },
   "source": [
    "**Question:** Are all states equally represented in the dataset?\n",
    "\n",
    "Yes. And some more... There are 52 states .. so it includes Puerot Rico and District of Columbia  ... True bu tht eh wrong take on the answer. It was asking if all states had the same number of reports / rows of data. \n",
    "\n",
    "I misintgerpreted this question. In fact, the last query with value_counts() function shows the number of rows per state. \n",
    "NOTE that California has 66 sites that reported AQI for this dataset, while states such as Delaware and Alabama have only one site that reported AQI.\n",
    " all states are not equally represented. "
   ]
  },
  {
   "cell_type": "markdown",
   "id": "07f71d5f",
   "metadata": {
    "id": "e3fe028b-178b-49c0-9765-a566f862ab1b"
   },
   "source": [
    "<details>\n",
    "  <summary><h4><strong>Hint 1</strong></h4></summary>\n",
    "\n",
    "Refer to [the content about descriptive statisics](https://www.coursera.org/learn/the-power-of-statistics/lecture/jVRS4/measures-of-central-tendency).\n",
    "</details>"
   ]
  },
  {
   "cell_type": "markdown",
   "id": "6ae73ae7",
   "metadata": {
    "id": "d7cba139-a71c-4b21-aef6-47e248da9315"
   },
   "source": [
    "<details>\n",
    "  <summary><h4><strong>Hint 2</strong></h4></summary>\n",
    "\n",
    "Use `pandas` or `numpy` to explore the `aqi` DataFrame.\n",
    "</details>"
   ]
  },
  {
   "cell_type": "markdown",
   "id": "cca74da7",
   "metadata": {
    "id": "8b7138ff-2e02-42df-8946-c0bd1076169c"
   },
   "source": [
    "<details>\n",
    "  <summary><h4><strong>Hint 3</strong></h4></summary>\n",
    "\n",
    "Use any of the following functions:\n",
    "- `pandas`: `describe()`,`value_counts()`,`shape()`\n",
    "- `numpy`: `unique()`,`mean()`\n",
    "    \n",
    "</details>"
   ]
  },
  {
   "cell_type": "markdown",
   "id": "2f59b889",
   "metadata": {
    "id": "fd48d0f0-3f90-455e-87a1-0da43fcac202"
   },
   "source": [
    "## Step 3: Statistical tests\n",
    "\n",
    "### Summarize the mean AQI for RRE states\n",
    "\n",
    "Start with your first deliverable. Summarize the mean AQI for the states in which RRE operates (California, Florida, Michigan, Ohio, Pennsylvania, and Texas)."
   ]
  },
  {
   "cell_type": "code",
   "execution_count": 104,
   "id": "d126cf19",
   "metadata": {
    "id": "83ef0d80-48ec-4a5a-8acd-0fab137243c3",
    "tags": []
   },
   "outputs": [
    {
     "name": "stdout",
     "output_type": "stream",
     "text": [
      "Overall mean 8.697478991596638\n",
      "<class 'pandas.core.frame.DataFrame'>\n"
     ]
    },
    {
     "data": {
      "text/html": [
       "<div>\n",
       "<style scoped>\n",
       "    .dataframe tbody tr th:only-of-type {\n",
       "        vertical-align: middle;\n",
       "    }\n",
       "\n",
       "    .dataframe tbody tr th {\n",
       "        vertical-align: top;\n",
       "    }\n",
       "\n",
       "    .dataframe thead th {\n",
       "        text-align: right;\n",
       "    }\n",
       "</style>\n",
       "<table border=\"1\" class=\"dataframe\">\n",
       "  <thead>\n",
       "    <tr style=\"text-align: right;\">\n",
       "      <th></th>\n",
       "      <th>aqi</th>\n",
       "    </tr>\n",
       "    <tr>\n",
       "      <th>state_name</th>\n",
       "      <th></th>\n",
       "    </tr>\n",
       "  </thead>\n",
       "  <tbody>\n",
       "    <tr>\n",
       "      <th>California</th>\n",
       "      <td>12.121212</td>\n",
       "    </tr>\n",
       "    <tr>\n",
       "      <th>Florida</th>\n",
       "      <td>5.500000</td>\n",
       "    </tr>\n",
       "    <tr>\n",
       "      <th>Michigan</th>\n",
       "      <td>8.111111</td>\n",
       "    </tr>\n",
       "    <tr>\n",
       "      <th>Ohio</th>\n",
       "      <td>3.333333</td>\n",
       "    </tr>\n",
       "    <tr>\n",
       "      <th>Pennsylvania</th>\n",
       "      <td>2.900000</td>\n",
       "    </tr>\n",
       "    <tr>\n",
       "      <th>Texas</th>\n",
       "      <td>2.700000</td>\n",
       "    </tr>\n",
       "  </tbody>\n",
       "</table>\n",
       "</div>"
      ],
      "text/plain": [
       "                    aqi\n",
       "state_name             \n",
       "California    12.121212\n",
       "Florida        5.500000\n",
       "Michigan       8.111111\n",
       "Ohio           3.333333\n",
       "Pennsylvania   2.900000\n",
       "Texas          2.700000"
      ]
     },
     "execution_count": 104,
     "metadata": {},
     "output_type": "execute_result"
    }
   ],
   "source": [
    "# Summarize the mean AQI for RRE states.\n",
    "\n",
    "# Create a list of RRE states.\n",
    "rre_states=['California', 'Florida', 'Michigan', 'Ohio', 'Pennsylvania', 'Texas']\n",
    "\n",
    "# Subset `aqi` to only consider these states.\n",
    "\n",
    "mask=aqi['state_name'].isin(rre_states)\n",
    "aqi_rre=aqi[mask]\n",
    "aqi_rre['aqi'].mean()\n",
    "print(f\"Overall mean {aqi_rre['aqi'].mean()}\")\n",
    "# Find the mean aqi for each of the RRE states.\n",
    "aqi_rre_red=aqi_rre.get(['state_name','aqi'])\n",
    "grouped=aqi_rre_red.groupby(['state_name'])\n",
    "grouped.mean()"
   ]
  },
  {
   "cell_type": "markdown",
   "id": "23e7ad56",
   "metadata": {},
   "source": [
    "********************************************************************************\n",
    "BELOW ARE THE INSTRUCTORS ANSWERS TO THE RRE_STATES breakout questions"
   ]
  },
  {
   "cell_type": "code",
   "execution_count": 18,
   "id": "a6954776",
   "metadata": {},
   "outputs": [
    {
     "name": "stdout",
     "output_type": "stream",
     "text": [
      "     Unnamed: 0  date_local    state_name     county_name                  city_name                                    local_site_name   parameter_name   units_of_measure  arithmetic_mean  aqi\n",
      "1             1  2018-01-01          Ohio         Belmont                  Shadyside                                          Shadyside  Carbon monoxide  Parts per million         0.263158    5\n",
      "3             3  2018-01-01  Pennsylvania    Philadelphia               Philadelphia                             North East Waste (NEW)  Carbon monoxide  Parts per million         0.300000    3\n",
      "7             7  2018-01-01  Pennsylvania            Erie                       Erie                                                NaN  Carbon monoxide  Parts per million         0.200000    2\n",
      "12           12  2018-01-01          Ohio        Hamilton                 Cincinnati                                         Taft NCore  Carbon monoxide  Parts per million         0.252632    3\n",
      "16           16  2018-01-01    California  San Bernardino                    Ontario                       Ontario Near Road (Etiwanda)  Carbon monoxide  Parts per million         0.747368   11\n",
      "18           18  2018-01-01    California      Sacramento               Arden-Arcade                          Sacramento-Del Paso Manor  Carbon monoxide  Parts per million         0.752632   16\n",
      "22           22  2018-01-01          Ohio           Stark                     Canton                                             Canton  Carbon monoxide  Parts per million         0.394737    6\n",
      "24           24  2018-01-01         Texas          Harris                    Houston                                 Houston North Loop  Carbon monoxide  Parts per million         0.247368    3\n",
      "26           26  2018-01-01    California          Orange                   La Habra                                           La Habra  Carbon monoxide  Parts per million         0.673684   13\n",
      "27           27  2018-01-01    California         Alameda              Not in a city                             Berkeley- Aquatic Park  Carbon monoxide  Parts per million         1.088889   15\n",
      "33           33  2018-01-01    California     Los Angeles                  Lancaster                          Lancaster-Division Street  Carbon monoxide  Parts per million         0.394737    7\n",
      "34           34  2018-01-01    California          Fresno                     Fresno                                   Fresno - Garland  Carbon monoxide  Parts per million         1.000000   15\n",
      "39           39  2018-01-01       Florida          Orange                Winter Park                                        WINTER PARK  Carbon monoxide  Parts per million         0.600000    8\n",
      "40           40  2018-01-01    California       San Mateo               Redwood City                                       Redwood City  Carbon monoxide  Parts per million         0.672222   10\n",
      "42           42  2018-01-01    California     Los Angeles              Santa Clarita                                      Santa Clarita  Carbon monoxide  Parts per million         0.394737    7\n",
      "43           43  2018-01-01    California    Contra Costa                    Concord                                            Concord  Carbon monoxide  Parts per million         0.294444    5\n",
      "45           45  2018-01-01    California           Butte                      Chico                                  Chico-East Avenue  Carbon monoxide  Parts per million         0.466667    9\n",
      "46           46  2018-01-01    California       Riverside                  Mira Loma                              Mira Loma (Van Buren)  Carbon monoxide  Parts per million         1.231579   27\n",
      "48           48  2018-01-01       Florida    Hillsborough                      Tampa                           Munro Street (Near-Road)  Carbon monoxide  Parts per million         0.347368    6\n",
      "51           51  2018-01-01          Ohio          Summit                      Akron                                       NIHF STEM MS  Carbon monoxide  Parts per million         0.083333    3\n",
      "58           58  2018-01-01    California            Kern                      Arvin                                   Arvin-Di Giorgio  Carbon monoxide  Parts per million         0.278947    3\n",
      "59           59  2018-01-01          Ohio        Cuyahoga                  Cleveland                                     GT Craig NCore  Carbon monoxide  Parts per million         0.250000    3\n",
      "61           61  2018-01-01    California     Los Angeles                   Pasadena                                           Pasadena  Carbon monoxide  Parts per million         0.789474   16\n",
      "62           62  2018-01-01    California         Alameda                    Oakland                                      Laney College  Carbon monoxide  Parts per million         0.611111    9\n",
      "63           63  2018-01-01    California      Sacramento              Not in a city                          North Highlands-Blackfoot  Carbon monoxide  Parts per million         0.836842   18\n",
      "64           64  2018-01-01  Pennsylvania       Allegheny                 Pittsburgh                                         Flag Plaza  Carbon monoxide  Parts per million         0.184211    2\n",
      "65           65  2018-01-01      Michigan           Wayne                    Livonia                                         LIVONIA-NR  Carbon monoxide  Parts per million         0.338889    5\n",
      "75           75  2018-01-01    California     San Joaquin                   Stockton                                  Stockton-Hazelton  Carbon monoxide  Parts per million         1.084211   20\n",
      "76           76  2018-01-01    California     Los Angeles                Los Angeles                                       LAX Hastings  Carbon monoxide  Parts per million         0.863158   17\n",
      "77           77  2018-01-01    California       Riverside              Lake Elsinore                                      Lake Elsinore  Carbon monoxide  Parts per million         0.510526    9\n",
      "79           79  2018-01-01  Pennsylvania    Philadelphia               Philadelphia                          Car-Barn Montgomery I -76  Carbon monoxide  Parts per million         0.223529    3\n",
      "81           81  2018-01-01    California   Santa Barbara  Vandenberg Air Force Base                                    VAFB South Base  Carbon monoxide  Parts per million         0.200000    2\n",
      "83           83  2018-01-01         Texas       Jefferson                  Nederland                              Nederland 17th Street  Carbon monoxide  Parts per million         0.200000    2\n",
      "86           86  2018-01-01    California     Santa Clara                   San Jose                                 San Jose - Jackson  Carbon monoxide  Parts per million         0.747059   15\n",
      "87           87  2018-01-01    California        Humboldt                     Eureka                                             Jacobs  Carbon monoxide  Parts per million         0.393750    5\n",
      "91           91  2018-01-01         Texas         El Paso                    El Paso                                   El Paso Chamizal  Carbon monoxide  Parts per million         0.226316    5\n",
      "92           92  2018-01-01  Pennsylvania    Philadelphia               Philadelphia                                 Torresdale Station  Carbon monoxide  Parts per million         0.336842    5\n",
      "94           94  2018-01-01       Florida        Pinellas           Saint Petersburg                     Sawgrass Lake Park (Near-Road)  Carbon monoxide  Parts per million         0.315789    9\n",
      "99           99  2018-01-01    California   Santa Barbara                     Goleta                                             Goleta  Carbon monoxide  Parts per million         0.222222    3\n",
      "101         101  2018-01-01  Pennsylvania           Adams              Not in a city                           NARSTO SITE ARENDTSVILLE  Carbon monoxide  Parts per million         0.144444    2\n",
      "102         102  2018-01-01         Texas          Harris                    Houston                                            Clinton  Carbon monoxide  Parts per million         0.157895    2\n",
      "106         106  2018-01-01    California        Imperial                   Calexico                              Calexico-Ethel Street  Carbon monoxide  Parts per million         1.183333   26\n",
      "107         107  2018-01-01  Pennsylvania       Allegheny                Wilkinsburg                             Parkway East Near-Road  Carbon monoxide  Parts per million         0.455556    6\n",
      "109         109  2018-01-01    California     Los Angeles                Los Angeles                      Los Angeles-North Main Street  Carbon monoxide  Parts per million         0.994737   17\n",
      "110         110  2018-01-01    California     Los Angeles                Los Angeles                      Los Angeles-North Main Street  Carbon monoxide  Parts per million         0.900000   16\n",
      "111         111  2018-01-01         Texas         El Paso                    El Paso                                        Ojo De Agua  Carbon monoxide  Parts per million         0.131579    3\n",
      "114         114  2018-01-01       Florida      Miami-Dade              Not in a city                                            KENDALL  Carbon monoxide  Parts per million         0.078947    3\n",
      "117         117  2018-01-01    California       San Diego                   El Cajon             El Cajon - Lexington Elementary School  Carbon monoxide  Parts per million         0.626667   11\n",
      "119         119  2018-01-01    California     Los Angeles                     Reseda                                             Reseda  Carbon monoxide  Parts per million         1.015789   19\n",
      "120         120  2018-01-01          Ohio        Cuyahoga                  Cleveland                                           Galleria  Carbon monoxide  Parts per million         0.273684    3\n",
      "122         122  2018-01-01      Michigan           Wayne                    Detroit                                        West corner  Carbon monoxide  Parts per million         0.394737    8\n",
      "123         123  2018-01-01      Michigan           Wayne                    Detroit                           MARK TWAIN MIDDLE SCHOOL  Carbon monoxide  Parts per million         0.515789    9\n",
      "126         126  2018-01-01       Florida         Broward            Fort Lauderdale                        Near Road - Fort Lauderdale  Carbon monoxide  Parts per million         0.373684    7\n",
      "127         127  2018-01-01    California           Marin                 San Rafael                                         San Rafael  Carbon monoxide  Parts per million         0.505556    7\n",
      "129         129  2018-01-01      Michigan           Wayne                    Detroit                                           ELIZA-NR  Carbon monoxide  Parts per million         0.616667   11\n",
      "130         130  2018-01-01    California  San Bernardino                    Fontana                                            Fontana  Carbon monoxide  Parts per million         0.626316   11\n",
      "132         132  2018-01-01    California     Los Angeles                    Compton                                            Compton  Carbon monoxide  Parts per million         1.742105   40\n",
      "134         134  2018-01-01    California         Alameda                    Oakland                                            Oakland  Carbon monoxide  Parts per million         0.600000   10\n",
      "136         136  2018-01-01  Pennsylvania            York                       York       A421330008LAT/LON POINT AT CORNER OF TRAILER  Carbon monoxide  Parts per million         0.000000    0\n",
      "137         137  2018-01-01       Florida           Duval               Jacksonville                                        Pepsi Place  Carbon monoxide  Parts per million         0.326316    5\n",
      "139         139  2018-01-01    California  San Bernardino                Victorville                            Victorville-Park Avenue  Carbon monoxide  Parts per million         0.621053   13\n",
      "140         140  2018-01-01         Texas          Harris                  Deer Park                               Houston Deer Park #2  Carbon monoxide  Parts per million         0.200000    2\n",
      "141         141  2018-01-01    California   San Francisco              San Francisco                                      San Francisco  Carbon monoxide  Parts per million         0.650000    8\n",
      "147         147  2018-01-01    California     Santa Clara                   San Jose                             San Jose - Knox Avenue  Carbon monoxide  Parts per million         1.111111   18\n",
      "148         148  2018-01-01    California    Contra Costa                  San Pablo                                          San Pablo  Carbon monoxide  Parts per million         0.405556    7\n",
      "149         149  2018-01-01          Ohio        Franklin                   Columbus                                           Morse Rd  Carbon monoxide  Parts per million         0.184211    3\n",
      "151         151  2018-01-01    California          Orange                    Anaheim                                            Anaheim  Carbon monoxide  Parts per million         0.694737   11\n",
      "153         153  2018-01-01         Texas           Bexar                San Antonio                          San Antonio Interstate 35  Carbon monoxide  Parts per million         0.252632    3\n",
      "156         156  2018-01-01    California          Fresno                     Clovis                                       Clovis-Villa  Carbon monoxide  Parts per million         0.761111   10\n",
      "158         158  2018-01-01    California      Stanislaus                    Modesto                                Modesto-14th Street  Carbon monoxide  Parts per million         0.488889    9\n",
      "161         161  2018-01-01    California            Kern                Bakersfield                                   Bakersfield-Muni  Carbon monoxide  Parts per million         0.633333   13\n",
      "163         163  2018-01-01    California     Los Angeles                      Azusa                                              Azusa  Carbon monoxide  Parts per million         0.673684   10\n",
      "169         169  2018-01-01       Florida         Wakulla                Saint Marks                          St. Marks Wildlife Refuge  Carbon monoxide  Parts per million         0.200000    2\n",
      "170         170  2018-01-01    California       San Diego                  San Diego                     San Diego -Rancho Carmel Drive  Carbon monoxide  Parts per million         0.933333   11\n",
      "171         171  2018-01-01    California            Inyo              Not in a city  White Mountain Research Center - Owens Valley Lab  Carbon monoxide  Parts per million         0.100000    1\n",
      "172         172  2018-01-01    California     Los Angeles                Pico Rivera                                     Pico Rivera #2  Carbon monoxide  Parts per million         1.047368   18\n",
      "176         176  2018-01-01    California    Contra Costa              Bethel Island                                      Bethel Island  Carbon monoxide  Parts per million         0.511111    7\n",
      "177         177  2018-01-01    California     Los Angeles                 Long Beach                                Long Beach (Hudson)  Carbon monoxide  Parts per million         1.200000   24\n",
      "189         189  2018-01-01    California     Los Angeles                     Pomona                                             Pomona  Carbon monoxide  Parts per million         1.000000   20\n",
      "190         190  2018-01-01    California          Madera                     Madera                                   Madera-Pump Yard  Carbon monoxide  Parts per million         0.347368    5\n",
      "191         191  2018-01-01          Ohio        Franklin                   Columbus                                Smoky Row Near Road  Carbon monoxide  Parts per million         0.115789    2\n",
      "192         192  2018-01-01      Michigan           Wayne                 Allen Park                                         Allen Park  Carbon monoxide  Parts per million         0.811111   13\n",
      "194         194  2018-01-01    California  San Bernardino                     Upland                                             Upland  Carbon monoxide  Parts per million         0.884211   13\n",
      "197         197  2018-01-01       Florida           Duval               Jacksonville                               Southside Playground  Carbon monoxide  Parts per million         0.521053    7\n",
      "198         198  2018-01-01    California       Riverside               Palm Springs                                       Palm Springs  Carbon monoxide  Parts per million         0.157895    3\n",
      "199         199  2018-01-01    California       Riverside                   Rubidoux                                           Rubidoux  Carbon monoxide  Parts per million         1.021053   23\n",
      "200         200  2018-01-01    California       Riverside                   Rubidoux                                           Rubidoux  Carbon monoxide  Parts per million         0.984211   22\n",
      "201         201  2018-01-01       Florida      Miami-Dade                      Miami                                          Lab Annex  Carbon monoxide  Parts per million         0.305263    7\n",
      "203         203  2018-01-01    California   Santa Barbara                Santa Maria                                        Santa Maria  Carbon monoxide  Parts per million         0.227778    3\n",
      "206         206  2018-01-01    California  San Bernardino             San Bernardino                                     San Bernardino  Carbon monoxide  Parts per million         1.100000   28\n",
      "207         207  2018-01-01      Michigan           Wayne              Not in a city                                     Eliza Downwind  Carbon monoxide  Parts per million         0.516667   10\n",
      "208         208  2018-01-01  Pennsylvania       Allegheny                 Pittsburgh                                      Lawrenceville  Carbon monoxide  Parts per million         0.250000    3\n",
      "209         209  2018-01-01         Texas         Tarrant                 Fort Worth                Fort Worth California Parkway North  Carbon monoxide  Parts per million         0.215789    3\n",
      "211         211  2018-01-01    California          Fresno              Not in a city                                       Tranquillity  Carbon monoxide  Parts per million         0.215789    3\n",
      "213         213  2018-01-01    California   Santa Barbara                    Capitan                               Los Flores Canyon #1  Carbon monoxide  Parts per million         0.273333    3\n",
      "214         214  2018-01-01       Florida         Broward                      Davie                                 Daniela Banu NCORE  Carbon monoxide  Parts per million         0.273684    5\n",
      "215         215  2018-01-01          Ohio        Cuyahoga       Warrensville Heights                                Cleveland Near Road  Carbon monoxide  Parts per million         0.321053    5\n",
      "217         217  2018-01-01       Florida           Duval               Jacksonville                                           Rosselle  Carbon monoxide  Parts per million         0.005263    1\n",
      "218         218  2018-01-01    California          Sonoma                 Sebastopol                                         Sebastopol  Carbon monoxide  Parts per million         0.572222    8\n",
      "220         220  2018-01-01    California            Napa                       Napa                                               Napa  Carbon monoxide  Parts per million         0.588889   10\n",
      "222         222  2018-01-01    California  San Bernardino                    Barstow                                            Barstow  Carbon monoxide  Parts per million         0.305263    5\n",
      "224         224  2018-01-01    California      Sacramento                 Sacramento                            Sacramento-Bercut Drive  Carbon monoxide  Parts per million         0.627778   13\n",
      "226         226  2018-01-01      Michigan            Kent               Grand Rapids                                          GR-MONROE  Carbon monoxide  Parts per million         0.200000    2\n",
      "227         227  2018-01-01    California   Santa Barbara                     Lompoc                                    Lompoc H Street  Carbon monoxide  Parts per million         0.393333    6\n",
      "229         229  2018-01-01         Texas          Travis                     Austin                         Austin North Interstate 35  Carbon monoxide  Parts per million         0.200000    2\n",
      "230         230  2018-01-01    California        Monterey                    Salinas                                          Salinas 3  Carbon monoxide  Parts per million         0.552632   10\n",
      "231         231  2018-01-01          Ohio      Montgomery                     Dayton                                            Reibold  Carbon monoxide  Parts per million         0.163158    2\n",
      "232         232  2018-01-01       Florida    Hillsborough                    Valrico                                             SYDNEY  Carbon monoxide  Parts per million         0.242105    6\n",
      "233         233  2018-01-01    California     Los Angeles                   Glendora                                           Glendora  Carbon monoxide  Parts per million         0.389474    6\n",
      "235         235  2018-01-01  Pennsylvania      Lackawanna                   Scranton    A420692006LAT/LON POINT IS AT CORNER OF TRAILER  Carbon monoxide  Parts per million         0.300000    3\n",
      "236         236  2018-01-01    California          Solano                    Vallejo                                            Vallejo  Carbon monoxide  Parts per million         0.620000    9\n",
      "239         239  2018-01-01    California         Alameda                    Oakland                                       Oakland West  Carbon monoxide  Parts per million         0.988889   15\n",
      "241         241  2018-01-01          Ohio          Preble                  New Paris                                       Preble NCore  Carbon monoxide  Parts per million         0.176471    2\n",
      "242         242  2018-01-01      Michigan           Wayne                    Detroit                                 (Northeast corner)  Carbon monoxide  Parts per million         0.378947    7\n",
      "247         247  2018-01-01         Texas          Dallas                     Dallas                                      Dallas Hinton  Carbon monoxide  Parts per million         0.157895    2\n",
      "248         248  2018-01-01      Michigan           Wayne                    Detroit                                          NORTHWEST  Carbon monoxide  Parts per million         0.415789    8\n",
      "249         249  2018-01-01    California          Orange                    Anaheim                                  Anaheim Near-Road  Carbon monoxide  Parts per million         1.015789   15\n",
      "250         250  2018-01-01    California     Los Angeles           West Los Angeles                                   West Los Angeles  Carbon monoxide  Parts per million         0.655556   11\n",
      "252         252  2018-01-01          Ohio        Hamilton                 Cincinnati                               Cincinnati Near Road  Carbon monoxide  Parts per million         0.226316    3\n"
     ]
    },
    {
     "data": {
      "text/html": [
       "<div>\n",
       "<style scoped>\n",
       "    .dataframe tbody tr th:only-of-type {\n",
       "        vertical-align: middle;\n",
       "    }\n",
       "\n",
       "    .dataframe tbody tr th {\n",
       "        vertical-align: top;\n",
       "    }\n",
       "\n",
       "    .dataframe thead th {\n",
       "        text-align: right;\n",
       "    }\n",
       "</style>\n",
       "<table border=\"1\" class=\"dataframe\">\n",
       "  <thead>\n",
       "    <tr style=\"text-align: right;\">\n",
       "      <th></th>\n",
       "      <th>aqi</th>\n",
       "      <th>state_name</th>\n",
       "    </tr>\n",
       "    <tr>\n",
       "      <th>state_name</th>\n",
       "      <th></th>\n",
       "      <th></th>\n",
       "    </tr>\n",
       "  </thead>\n",
       "  <tbody>\n",
       "    <tr>\n",
       "      <th>California</th>\n",
       "      <td>12.121212</td>\n",
       "      <td>66</td>\n",
       "    </tr>\n",
       "    <tr>\n",
       "      <th>Florida</th>\n",
       "      <td>5.500000</td>\n",
       "      <td>12</td>\n",
       "    </tr>\n",
       "    <tr>\n",
       "      <th>Michigan</th>\n",
       "      <td>8.111111</td>\n",
       "      <td>9</td>\n",
       "    </tr>\n",
       "    <tr>\n",
       "      <th>Ohio</th>\n",
       "      <td>3.333333</td>\n",
       "      <td>12</td>\n",
       "    </tr>\n",
       "    <tr>\n",
       "      <th>Pennsylvania</th>\n",
       "      <td>2.900000</td>\n",
       "      <td>10</td>\n",
       "    </tr>\n",
       "    <tr>\n",
       "      <th>Texas</th>\n",
       "      <td>2.700000</td>\n",
       "      <td>10</td>\n",
       "    </tr>\n",
       "  </tbody>\n",
       "</table>\n",
       "</div>"
      ],
      "text/plain": [
       "                    aqi  state_name\n",
       "state_name                         \n",
       "California    12.121212          66\n",
       "Florida        5.500000          12\n",
       "Michigan       8.111111           9\n",
       "Ohio           3.333333          12\n",
       "Pennsylvania   2.900000          10\n",
       "Texas          2.700000          10"
      ]
     },
     "execution_count": 18,
     "metadata": {},
     "output_type": "execute_result"
    }
   ],
   "source": [
    "# Create a list of RRE states.\n",
    "\n",
    "rre_states = ['California','Florida','Michigan','Ohio','Pennsylvania','Texas']\n",
    "\n",
    "# Subset `aqi` to only consider these states.\n",
    "\n",
    "aqi_rre = aqi[aqi['state_name'].isin(rre_states)]\n",
    "#print(aqi_rre['state_name'].to_list())p\n",
    "print(aqi_rre.to_string())\n",
    "# Find the mean aqi for each of the RRE states.\n",
    "\n",
    "aqi_rre.groupby(['state_name']).agg({\"aqi\":\"mean\",\"state_name\":\"count\"}) #alias as aqi_rre"
   ]
  },
  {
   "cell_type": "markdown",
   "id": "ae8ffe2f",
   "metadata": {
    "id": "1078da6e-ce25-45c1-9707-9bf32ecc128f"
   },
   "source": [
    "<details>\n",
    "  <summary><h4><strong>Hint 1</strong></h4></summary>\n",
    "\n",
    "Subset your DataFrame to only include those states in which RRE operates. \n",
    "    \n",
    "</details>"
   ]
  },
  {
   "cell_type": "markdown",
   "id": "b0339ca5",
   "metadata": {
    "id": "096f97f3-7d89-4f0f-805a-2517807eec0d"
   },
   "source": [
    "<details>\n",
    "  <summary><h4><strong>Hint 2</strong></h4></summary>\n",
    "\n",
    "Define a list consisting of the states in which RRE operates and use that list to subset your DataFrame. \n",
    "    \n",
    "</details>"
   ]
  },
  {
   "cell_type": "markdown",
   "id": "70331bca",
   "metadata": {
    "id": "77d4a686-be3d-40c1-9d27-099677f182b9"
   },
   "source": [
    "<details>\n",
    "  <summary><h4><strong>Hint 3</strong></h4></summary>\n",
    "\n",
    "Use `pandas` `isin.()` to subset your DataFrame by the list of RRE states.\n",
    "    \n",
    "</details>"
   ]
  },
  {
   "cell_type": "markdown",
   "id": "df6f3978",
   "metadata": {
    "id": "883abc8c-5aa9-480e-ac4b-c1c64f8ae0fd"
   },
   "source": [
    "### Construct a boxplot visualization for the AQI of these states\n",
    "\n",
    "Seaborn is a simple visualization library, commonly imported as `sns`. Import `seaborn`. Then utilize a boxplot visualization from this library to compare the distributions of AQI scores by state."
   ]
  },
  {
   "cell_type": "code",
   "execution_count": 22,
   "id": "f3a5b90e",
   "metadata": {
    "id": "ca381599-7cba-4454-922c-3383a2b7608d"
   },
   "outputs": [
    {
     "data": {
      "text/plain": [
       "Text(0.5, 1.0, 'Air Quality Index Values By State')"
      ]
     },
     "execution_count": 22,
     "metadata": {},
     "output_type": "execute_result"
    },
    {
     "data": {
      "image/png": "[encoded data removed]",
      "text/plain": [
       "<Figure size 1000x800 with 1 Axes>"
      ]
     },
     "metadata": {},
     "output_type": "display_data"
    }
   ],
   "source": [
    "# Import seaborn as sns.\n",
    "import seaborn as sns\n",
    "plt.figure(figsize=(10, 8))\n",
    "sns.boxplot(x='state_name',\n",
    "            y='aqi',\n",
    "            data=aqi_rre,\n",
    "            showmeans=True,\n",
    "            meanprops={\"marker\": \"+\",\n",
    "                       \"markeredgecolor\": \"black\",\n",
    "                       \"markersize\": \"10\"})\n",
    "plt.ylabel(\"AQI\", size=14)\n",
    "plt.xlabel(\"State\", size=14)\n",
    "plt.title(\"Air Quality Index Values By State\", size=18)\n",
    "\n",
    "\n",
    "\n",
    "\n",
    "\n",
    "\n",
    "### YOUR CODE HERE ###"
   ]
  },
  {
   "cell_type": "markdown",
   "id": "0eb0639b",
   "metadata": {},
   "source": [
    "********************************************************************************\n",
    "BELOW ARE THE INSTRUCTORS ANSWERS TO THE RRE_STATES breakout questions"
   ]
  },
  {
   "cell_type": "code",
   "execution_count": 21,
   "id": "a8de4559",
   "metadata": {},
   "outputs": [
    {
     "data": {
      "text/plain": [
       "<Axes: xlabel='state_name', ylabel='aqi'>"
      ]
     },
     "execution_count": 21,
     "metadata": {},
     "output_type": "execute_result"
    },
    {
     "data": {
      "image/png": "[encoded data removed]",
      "text/plain": [
       "<Figure size 640x480 with 1 Axes>"
      ]
     },
     "metadata": {},
     "output_type": "display_data"
    }
   ],
   "source": [
    "sns.boxplot(x=aqi_rre[\"state_name\"],y=aqi_rre[\"aqi\"])"
   ]
  },
  {
   "cell_type": "markdown",
   "id": "4666a106",
   "metadata": {
    "id": "01510e30-26e6-4408-9599-e7016fdb9948"
   },
   "source": [
    "### Create an in-line visualization showing the distribution of `aqi` by `state_name`\n",
    "\n",
    "Now, create an in-line visualization showing the distribution of `aqi` by `state_name`."
   ]
  },
  {
   "cell_type": "code",
   "execution_count": null,
   "id": "101d17b7",
   "metadata": {
    "id": "50040050-1ff3-4d0e-a9e1-d2fd00454ce3"
   },
   "outputs": [],
   "source": [
    "### YOUR CODE HERE ###"
   ]
  },
  {
   "cell_type": "markdown",
   "id": "48242705",
   "metadata": {
    "id": "2ec7b69d-072c-4c42-b0b4-7cff1aaa1579"
   },
   "source": [
    "<details>\n",
    "  <summary><h4><strong>Hint 1</strong></h4></summary>\n",
    "\n",
    "Use the boxplot visual for this purpose.\n",
    "    \n",
    "</details>"
   ]
  },
  {
   "cell_type": "markdown",
   "id": "581b1298",
   "metadata": {
    "id": "4218e686-47fc-49cc-b98d-fbca88144a34",
    "tags": []
   },
   "source": [
    "<details>\n",
    "  <summary><h4><strong>Hint 2</strong></h4></summary>\n",
    "\n",
    "Reference [Seaborn's boxplot visualization documentation](https://seaborn.pydata.org/generated/seaborn.boxplot.html). \n",
    "    \n",
    "</details>"
   ]
  },
  {
   "cell_type": "markdown",
   "id": "1932908e",
   "metadata": {
    "id": "a3f8a76b-a277-4488-adf2-0ffc9d89e496",
    "tags": []
   },
   "source": [
    "<details>\n",
    "  <summary><h4><strong>Hint 3</strong></h4></summary>\n",
    "\n",
    "Assign `state_name` to the x argument and `aqi` to the y.\n",
    "    \n",
    "</details>"
   ]
  },
  {
   "cell_type": "markdown",
   "id": "e5a1ff34",
   "metadata": {
    "id": "5e2af1a1-7816-4d8b-929b-41268234a579"
   },
   "source": [
    "**Question:** Based on the data and your visualizations, which state(s) do you suspect will be most affected by this policy?"
   ]
  },
  {
   "cell_type": "markdown",
   "id": "a0e80946",
   "metadata": {
    "id": "ZbPjfp_wgVpg"
   },
   "source": [
    "California will be most affected \n",
    "\n",
    "California: The mean and a signficant portion of the boxplot range over 10.\n",
    "Michigan: While the mean is below 10, the boxplot ranges above 10."
   ]
  },
  {
   "cell_type": "code",
   "execution_count": null,
   "id": "63b53478",
   "metadata": {},
   "outputs": [],
   "source": []
  },
  {
   "cell_type": "markdown",
   "id": "08b4bc3d",
   "metadata": {
    "id": "30760c51-641f-4971-9837-4ae60b72cd64"
   },
   "source": [
    "<details>\n",
    "  <summary><h4><strong>Hint 1</strong></h4></summary>\n",
    "\n",
    "Consider the mean AQI for the RRE states, as well as the distribution in the boxplots relative to the policy limit (10).\n",
    "    \n",
    "</details>"
   ]
  },
  {
   "cell_type": "markdown",
   "id": "c8159dc0",
   "metadata": {
    "id": "b01231e9-0a80-4457-a47e-c62c2c230ae4"
   },
   "source": [
    "### Construct a confidence interval for the RRE state with the highest mean AQI\n",
    "\n",
    "Recall the 4-step process in constructing a confidence interval:\n",
    "\n",
    "1.   Identify a sample statistic.\n",
    "2.   Choose a confidence level.\n",
    "3.   Find the margin of error. \n",
    "4.   Calculate the interval."
   ]
  },
  {
   "cell_type": "markdown",
   "id": "60c07759",
   "metadata": {
    "id": "587f8053-6cbd-454a-a390-9307e5a65b1b"
   },
   "source": [
    "### Construct your sample statistic\n",
    "\n",
    "To contruct your sample statistic, find the mean AQI for your state."
   ]
  },
  {
   "cell_type": "code",
   "execution_count": 34,
   "id": "aafa4ac4",
   "metadata": {
    "id": "58af6462-80ab-4055-85de-c99c87129752"
   },
   "outputs": [
    {
     "name": "stdout",
     "output_type": "stream",
     "text": [
      "66\n",
      "14.28\n",
      "1.2342195749475349\n"
     ]
    },
    {
     "data": {
      "text/plain": [
       "(11.860974084088497, 16.699025915911502)"
      ]
     },
     "execution_count": 34,
     "metadata": {},
     "output_type": "execute_result"
    }
   ],
   "source": [
    "# Find the mean aqi for your state.\n",
    "\n",
    "mask=aqi['state_name'].isin(['California'])\n",
    "aqi_cal=aqi[mask]\n",
    "print(len(aqi_cal))\n",
    "sampled_data = aqi_cal.sample(n=50, replace=True, random_state=31208)\n",
    "sampled_data\n",
    "sample_mean = sampled_data['aqi'].mean()\n",
    "print(sample_mean)\n",
    "estimated_standard_error = sampled_data['aqi'].std() / np.sqrt(sampled_data.shape[0])\n",
    "print(estimated_standard_error)\n",
    "stats.norm.interval(0.95, loc=sample_mean, scale=estimated_standard_error)"
   ]
  },
  {
   "cell_type": "markdown",
   "id": "07b66a4d",
   "metadata": {},
   "source": [
    "********************************************************************************\n",
    "BELOW ARE THE INSTRUCTORS ANSWERS TO THE RRE_STATES breakout questions"
   ]
  },
  {
   "cell_type": "code",
   "execution_count": 39,
   "id": "ffbff825",
   "metadata": {},
   "outputs": [
    {
     "name": "stdout",
     "output_type": "stream",
     "text": [
      "66\n"
     ]
    },
    {
     "data": {
      "text/plain": [
       "12.121212121212121"
      ]
     },
     "execution_count": 39,
     "metadata": {},
     "output_type": "execute_result"
    }
   ],
   "source": [
    "aqi_ca = aqi[aqi['state_name']=='California']\n",
    "\n",
    "print(aqi_ca['aqi'].count())\n",
    "\n",
    "sample_mean = aqi_ca['aqi'].mean()\n",
    "sample_mean"
   ]
  },
  {
   "cell_type": "markdown",
   "id": "7c064ad4",
   "metadata": {
    "id": "3361efb6-9def-4140-8d55-061487583b3e"
   },
   "source": [
    "<details>\n",
    "  <summary><h4><strong>Hint 1</strong></h4></summary>\n",
    "\n",
    "Reference what you've previously learned to recall what a [sample statistic](https://www.coursera.org/learn/the-power-of-statistics/supplement/cdOx7/construct-a-confidence-interval-for-a-small-sample-size) is.\n",
    "    \n",
    "</details>"
   ]
  },
  {
   "cell_type": "markdown",
   "id": "bc5efe32",
   "metadata": {
    "id": "54189c3c-a318-447b-b48f-b7bcd9b8a178"
   },
   "source": [
    "<details>\n",
    "  <summary><h4><strong>Hint 2</strong></h4></summary>\n",
    "\n",
    "Calculate the mean for your highest AQI state to arrive at your sample statistic.\n",
    "    \n",
    "</details>"
   ]
  },
  {
   "cell_type": "markdown",
   "id": "36f902f3",
   "metadata": {
    "id": "a2659e8e-1f67-441f-825c-8473c9f88081"
   },
   "source": [
    "<details>\n",
    " <summary><h4><strong>Hint 3</strong></h4></summary>\n",
    "\n",
    "Call the `mean()` function within `pandas` on your DataFrame.\n",
    "    \n",
    "</details>"
   ]
  },
  {
   "cell_type": "markdown",
   "id": "70e496ed",
   "metadata": {
    "id": "9a15605d-5b99-4033-940f-1fab630ad6c1"
   },
   "source": [
    "### Choose your confidence level\n",
    "\n",
    "Choose your confidence level for your analysis. The most typical confidence level chosen is 95%; however, you can choose 90% or 99% if you want decrease or increase (respectively) your level of confidence about your result."
   ]
  },
  {
   "cell_type": "code",
   "execution_count": 130,
   "id": "39abe7f6",
   "metadata": {
    "id": "0a9c1f39-b4e2-4ec3-9369-dd313fd2d835",
    "outputId": "c035e170-c781-46b7-d1ec-5af2c66a7b1f"
   },
   "outputs": [],
   "source": [
    "# Input your confidence level here: 95%\n",
    "\n",
    "confidence_level = .95"
   ]
  },
  {
   "cell_type": "markdown",
   "id": "3b8194bb",
   "metadata": {
    "id": "ac18cb1b-40ca-4de3-bc0a-08be82f64781"
   },
   "source": [
    "### Find your margin of error (ME)\n",
    "\n",
    "Recall **margin of error = z * standard error**, where z is the appropriate z-value for the given confidence level. To calculate your margin of error:\n",
    "\n",
    "- Find your z-value. \n",
    "- Find the approximate z for common confidence levels.\n",
    "- Calculate your **standard error** estimate. \n",
    "\n",
    "| Confidence Level | Z Score |\n",
    "| --- | --- |\n",
    "| 90% | 1.65 |\n",
    "| 95% | 1.96 |\n",
    "| 99% | 2.58 |\n"
   ]
  },
  {
   "cell_type": "code",
   "execution_count": 27,
   "id": "700dbd2b",
   "metadata": {
    "id": "930e5fb6-171c-4bba-a601-d5e3b84e2fdb"
   },
   "outputs": [
    {
     "name": "stdout",
     "output_type": "stream",
     "text": [
      "standard error\n",
      "0.8987209641127412\n",
      "margin of error\n",
      "1.7614930896609726\n"
     ]
    }
   ],
   "source": [
    "# Calculate your margin of error.\n",
    "\n",
    "### YOUR CODE HERE ###\n",
    "\n",
    "\n",
    "\n",
    "# Begin by identifying the z associated with your chosen confidence level.\n",
    "zval=1.96\n",
    "\n",
    "# Next, calculate your standard error.\n",
    "standard_error = aqi_ca['aqi'].std() / np.sqrt(aqi_ca.shape[0])\n",
    "print(\"standard error\")\n",
    "print(standard_error)\n",
    "\n",
    "# Lastly, use the preceding result to calculate your margin of error.\n",
    "margin_of_error= estimated_standard_error * zval\n",
    "print(\"margin of error\")\n",
    "print(margin_of_error)\n"
   ]
  },
  {
   "cell_type": "markdown",
   "id": "3b4b679f",
   "metadata": {
    "id": "6b0d173b-06d4-4e82-81d8-092b24132bd2"
   },
   "source": [
    "### Calculate your interval\n",
    "\n",
    "Calculate both a lower and upper limit surrounding your sample mean to create your interval."
   ]
  },
  {
   "cell_type": "code",
   "execution_count": 30,
   "id": "e697bc31",
   "metadata": {
    "id": "f83a7ba7-afdd-4d8c-8b78-849cff363180"
   },
   "outputs": [
    {
     "name": "stdout",
     "output_type": "stream",
     "text": [
      "Mean is 12.121212121212121 with lower limit being 10.359719031551148 and upper limit being 13.882705210873095\n"
     ]
    }
   ],
   "source": [
    "# Calculate your confidence interval (upper and lower limits).\n",
    "\n",
    "upper_aqi = sample_mean + margin_of_error\n",
    "lower_aqi = sample_mean - margin_of_error\n",
    "\n",
    "print(f\"Mean is {sample_mean} with lower limit being {lower_aqi} and upper limit being {upper_aqi}\")"
   ]
  },
  {
   "cell_type": "markdown",
   "id": "bff18769",
   "metadata": {
    "id": "5c6af474-8803-40c3-88fe-3ae8d4523097"
   },
   "source": [
    "<details>\n",
    "  <summary><h4><strong>Hint 1</strong></h4></summary>\n",
    "\n",
    "Refer to [the content about constructing a confidence interval](https://www.coursera.org/learn/the-power-of-statistics/lecture/3jbsX/construct-a-confidence-interval-for-a-proportion).\n",
    "    \n",
    "</details>"
   ]
  },
  {
   "cell_type": "markdown",
   "id": "a1d77717",
   "metadata": {
    "id": "d515ba65-5524-492e-ba06-64d3a4e90e8f"
   },
   "source": [
    "<details>\n",
    "  <summary><h4><strong>Hint 2</strong></h4></summary>\n",
    "\n",
    "Identify the sample mean from your prior work. Then use the margin of error to construct your upper and lower limits.  \n",
    "    \n",
    "</details>"
   ]
  },
  {
   "cell_type": "markdown",
   "id": "9ff6084b",
   "metadata": {
    "id": "22532a0b-8db5-4874-9869-39d3e80a5ea9"
   },
   "source": [
    "<details>\n",
    "  <summary><h4><strong>Hint 3</strong></h4></summary>\n",
    "\n",
    "Subtract the margin of error from the sample mean to construct your lower limit, and add the margin of error to your sample mean to construct your upper limit.\n",
    "    \n",
    "</details>"
   ]
  },
  {
   "cell_type": "markdown",
   "id": "2ae1297e",
   "metadata": {
    "id": "82e06ed3-2ec3-4851-b3df-2c6d969ea616"
   },
   "source": [
    "### Alternative: Construct the interval using `scipy.stats.norm.interval()`\n",
    "\n",
    "`scipy` presents a simpler solution to developing a confidence interval. To use this, first import the `stats` module from `scipy`."
   ]
  },
  {
   "cell_type": "code",
   "execution_count": 129,
   "id": "b20d20ca",
   "metadata": {
    "id": "0b6d2ecc-03ff-47ab-9d2d-57857fc38ca0"
   },
   "outputs": [],
   "source": [
    "# Import stats from scipy.\n",
    "from scipy import stats\n",
    "import statsmodels.api as sm\n",
    "\n"
   ]
  },
  {
   "cell_type": "markdown",
   "id": "22f544f7",
   "metadata": {
    "id": "ba8af068-f28e-4c29-82c9-238bc0f16ed1"
   },
   "source": [
    "## Step 4: Results and evaluation\n",
    "\n",
    "### Recalculate your confidence interval\n",
    "\n",
    "Provide your chosen `confidence_level`, `sample_mean`, and `standard_error` to `stats.norm.interval()` and recalculate your confidence interval."
   ]
  },
  {
   "cell_type": "code",
   "execution_count": 41,
   "id": "130caaea",
   "metadata": {
    "id": "f908eb99-ce5c-472f-891e-80a47cef5fed"
   },
   "outputs": [
    {
     "data": {
      "text/plain": [
       "(8.942073173048593, 15.30035106937565)"
      ]
     },
     "execution_count": 41,
     "metadata": {},
     "output_type": "execute_result"
    }
   ],
   "source": [
    "stats.norm.interval(0.99, loc=sample_mean, scale=estimated_standard_error)### YOUR CODE HERE ###"
   ]
  },
  {
   "cell_type": "markdown",
   "id": "d01c7064",
   "metadata": {
    "id": "feb3e273-1aab-4965-bceb-8b8933c743b5"
   },
   "source": [
    "# Considerations\n",
    "\n",
    "**What are some key takeaways that you learned from this lab?**\n",
    "\n",
    "[Write your response here. Double-click (or enter) to edit.]\n",
    "\n",
    "**What findings would you share with others?**\n",
    "\n",
    "[Write your response here. Double-click (or enter) to edit.]\n",
    "\n",
    "**What would you convey to external stakeholders?**\n",
    "\n",
    "[Write your response here. Double-click (or enter) to edit.]"
   ]
  },
  {
   "cell_type": "markdown",
   "id": "3cfc1a9e",
   "metadata": {
    "id": "0IVWUekbeFEq"
   },
   "source": [
    "**References**\n",
    "\n",
    "[seaborn.boxplot — seaborn 0.12.1 documentation](https://seaborn.pydata.org/generated/seaborn.boxplot.html). (n.d.). "
   ]
  },
  {
   "cell_type": "markdown",
   "id": "41717159",
   "metadata": {},
   "source": [
    "**Congratulations!** You've completed this lab. However, you may not notice a green check mark next to this item on Coursera's platform. Please continue your progress regardless of the check mark. Just click on the \"save\" icon at the top of this notebook to ensure your work has been logged."
   ]
  }
 ],
 "metadata": {
  "colab": {
   "collapsed_sections": [],
   "provenance": []
  },
  "kernelspec": {
   "display_name": "Python 3",
   "language": "python",
   "name": "python3"
  },
  "language_info": {
   "codemirror_mode": {
    "name": "ipython",
    "version": 3
   },
   "file_extension": ".py",
   "mimetype": "text/x-python",
   "name": "python",
   "nbconvert_exporter": "python",
   "pygments_lexer": "ipython3",
   "version": "3.12.3"
  }
 },
 "nbformat": 4,
 "nbformat_minor": 5
}
